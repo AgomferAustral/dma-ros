{
  "nbformat": 4,
  "nbformat_minor": 0,
  "metadata": {
    "colab": {
      "provenance": []
    },
    "kernelspec": {
      "name": "python3",
      "display_name": "Python 3"
    },
    "language_info": {
      "name": "python"
    }
  },
  "cells": [
    {
      "cell_type": "code",
      "execution_count": null,
      "metadata": {
        "id": "vqCBEC0ZeDwn"
      },
      "outputs": [],
      "source": [
        "# conexion al Google Drive\n",
        "from google.colab import drive\n",
        "drive.mount('/content/.drive')\n",
        "!mkdir -p \"/content/.drive/My Drive/DMA\"\n",
        "!mkdir -p \"/content/buckets\"\n",
        "!ln -s \"/content/.drive/My Drive/DMA\" /content/buckets/b1"
      ]
    },
    {
      "cell_type": "markdown",
      "source": [
        "#Algebra Lineal"
      ],
      "metadata": {
        "id": "59aRlzTqjP66"
      }
    },
    {
      "cell_type": "markdown",
      "source": [
        "####vector diagonal"
      ],
      "metadata": {
        "id": "4V9ULpg1QVS_"
      }
    },
    {
      "cell_type": "code",
      "source": [
        "import numpy as np\n",
        "import math\n",
        "import matplotlib.pyplot as plt\n",
        "\n",
        "# definir el vector\n",
        "v = np.array( [ math.sqrt(2)/2, math.sqrt(2)/2] )\n",
        "\n",
        "# crear una figura y un conjunto de ejes\n",
        "fig, ax = plt.subplots()\n",
        "\n",
        "# graficar el vector como una flecha\n",
        "ax.quiver(0, 0, v[0], v[1], angles='xy', scale_units='xy', scale=1)\n",
        "\n",
        "# establecer los límites del eje x e y\n",
        "plt.xlim(0, 1)\n",
        "plt.ylim(0, 1)\n",
        "\n",
        "\n",
        "# etiquetar los ejes y mostrar la figura\n",
        "plt.xlabel('Eje x1')\n",
        "plt.ylabel('Eje x2')\n",
        "plt.title('Gráfico de vector |1| a 45 grados')\n",
        "\n",
        "# dibujar\n",
        "plt.show()"
      ],
      "metadata": {
        "id": "B90npDy8mnQJ"
      },
      "execution_count": null,
      "outputs": []
    },
    {
      "cell_type": "markdown",
      "source": [
        "## Escalar por vector"
      ],
      "metadata": {
        "id": "r8BJjywtptk_"
      }
    },
    {
      "cell_type": "code",
      "source": [
        "v1 = np.array( [1,0] )\n",
        "w1 = 2 * v1\n",
        "print( w1 )"
      ],
      "metadata": {
        "id": "TF0aj31zQleX"
      },
      "execution_count": null,
      "outputs": []
    },
    {
      "cell_type": "code",
      "source": [
        "v2 = np.array( [0,1] )\n",
        "w2 = 2 * v2\n",
        "print( w2 )"
      ],
      "metadata": {
        "id": "jrk1G9kGQ-AS"
      },
      "execution_count": null,
      "outputs": []
    },
    {
      "cell_type": "code",
      "source": [
        "v3 = np.array( [2,1] )\n",
        "w3 = -2 * v3\n",
        "print( w3 )"
      ],
      "metadata": {
        "id": "Exd0TQD-SQM7"
      },
      "execution_count": null,
      "outputs": []
    },
    {
      "cell_type": "markdown",
      "source": [
        "## Suma de vectores"
      ],
      "metadata": {
        "id": "J8I04cf2UmHd"
      }
    },
    {
      "cell_type": "code",
      "source": [
        "v1 = np.array( [1,0] )\n",
        "v2 = np.array( [0,1] )\n",
        "\n",
        "w4 = v1 + v2\n",
        "print( w4 )"
      ],
      "metadata": {
        "id": "OIjTssKsSnbf"
      },
      "execution_count": null,
      "outputs": []
    },
    {
      "cell_type": "code",
      "source": [
        "v3 = np.array( [1,1] )\n",
        "v4 = np.array( [-1,-1] )\n",
        "\n",
        "w5 = v3 + v4\n",
        "print( w5 )"
      ],
      "metadata": {
        "id": "PYBkGr-VUtBV"
      },
      "execution_count": null,
      "outputs": []
    },
    {
      "cell_type": "markdown",
      "source": [
        "## Dot Product"
      ],
      "metadata": {
        "id": "1KMJs0WCQdyt"
      }
    },
    {
      "cell_type": "code",
      "source": [
        "v1 = np.array([1, 0])\n",
        "v2 = np.array([0,1])\n",
        "\n",
        "prod12 = np.dot(v1,v2)\n",
        "\n",
        "print( prod12 )"
      ],
      "metadata": {
        "id": "KMJBmpo4jTTY"
      },
      "execution_count": null,
      "outputs": []
    },
    {
      "cell_type": "code",
      "source": [
        "v3 = np.array([-1,0])\n",
        "v4 = np.array([0,-1])\n",
        "\n",
        "prod12 = np.dot(v1,v2)\n",
        "prod13 = np.dot(v1,v3)\n",
        "prod14 = np.dot(v1,v4)\n",
        "\n",
        "print( \"prod12 = \" , prod12)\n",
        "print( \"prod13 = \", prod13)\n",
        "print( \"prod14 = \", prod14)"
      ],
      "metadata": {
        "id": "V7LoGR82pzvX"
      },
      "execution_count": null,
      "outputs": []
    },
    {
      "cell_type": "markdown",
      "source": [
        "Alternativamente el operador infijo @  tambien hace el producto interno\n"
      ],
      "metadata": {
        "id": "EUvEgiejViea"
      }
    },
    {
      "cell_type": "code",
      "source": [
        "v6 = np.array([-1,2])\n",
        "v7 = np.array([3,4])\n",
        "\n",
        "prod67 = v6 @ v7\n",
        "print( prod67 )"
      ],
      "metadata": {
        "id": "FIpKEzVhVFPg"
      },
      "execution_count": null,
      "outputs": []
    },
    {
      "cell_type": "code",
      "source": [
        "import math\n",
        "\n",
        "v1 = np.array([1, 0])\n",
        "v5 = np.array([math.sqrt(2)/2,math.sqrt(2)/2])\n",
        "\n",
        "len1 = np.linalg.norm(v1)\n",
        "len5 = np.linalg.norm(v5)\n",
        "print( \"largo v1 = \", len1)\n",
        "print( \"largo v5 = \", len5)"
      ],
      "metadata": {
        "id": "VjqgcTthkG3x"
      },
      "execution_count": null,
      "outputs": []
    },
    {
      "cell_type": "code",
      "source": [
        "prod15 = np.dot(v1,v5)\n",
        "print( \"prod15 = \", prod15 )"
      ],
      "metadata": {
        "id": "Mnamty15lUls"
      },
      "execution_count": null,
      "outputs": []
    },
    {
      "cell_type": "markdown",
      "source": [
        "## Transformacion Lineal"
      ],
      "metadata": {
        "id": "_ywKtX6Cqz7u"
      }
    },
    {
      "cell_type": "markdown",
      "source": [
        "### matriz rotacion antihoraria"
      ],
      "metadata": {
        "id": "o1EbCq33rRWK"
      }
    },
    {
      "cell_type": "code",
      "source": [
        "def graficar(v):\n",
        "  # crear una figura y un conjunto de ejes\n",
        "  fig, ax = plt.subplots()\n",
        "\n",
        "  # graficar el vector como una flecha\n",
        "  ax.quiver(0, 0, v[0], v[1], angles='xy', scale_units='xy', scale=1)\n",
        "\n",
        "  # establecer los límites del eje x e y\n",
        "  plt.xlim(-1, 1)\n",
        "  plt.ylim(-1, 1)\n",
        "\n",
        "\n",
        "  # etiquetar los ejes y mostrar la figura\n",
        "  plt.xlabel('Eje x1')\n",
        "  plt.ylabel('Eje x2')\n",
        "  plt.title('Gráfico de vector')\n",
        "\n",
        "  # dibujar\n",
        "  plt.show()"
      ],
      "metadata": {
        "id": "b6lEq9WJsYso"
      },
      "execution_count": null,
      "outputs": []
    },
    {
      "cell_type": "code",
      "source": [
        "p = math.sqrt(2)/2\n",
        "rotacion = np.array (([ p, -p], [p, p]))\n",
        "\n",
        "w0 = v1\n",
        "\n",
        "graficar( w0)"
      ],
      "metadata": {
        "id": "kxUAHJlPq3Fh"
      },
      "execution_count": null,
      "outputs": []
    },
    {
      "cell_type": "code",
      "source": [
        "# matriz por vector, aplico transformacion lineal al vector\n",
        "w1 = rotacion@w0\n",
        "\n",
        "graficar( w1)"
      ],
      "metadata": {
        "id": "2TFdW9p5s5AP"
      },
      "execution_count": null,
      "outputs": []
    },
    {
      "cell_type": "code",
      "source": [
        "w2 = rotacion@w1\n",
        "\n",
        "graficar( w2 )"
      ],
      "metadata": {
        "id": "ovndsQnFtZd5"
      },
      "execution_count": null,
      "outputs": []
    },
    {
      "cell_type": "code",
      "source": [
        "w3 = rotacion@w2\n",
        "\n",
        "graficar( w3 )"
      ],
      "metadata": {
        "id": "OxQepdJdthz6"
      },
      "execution_count": null,
      "outputs": []
    }
  ]
}